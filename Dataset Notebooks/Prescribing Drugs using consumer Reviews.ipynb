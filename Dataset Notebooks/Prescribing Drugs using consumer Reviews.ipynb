{
 "cells": [
  {
   "cell_type": "code",
   "execution_count": 2,
   "metadata": {},
   "outputs": [],
   "source": [
    "import numpy as np \n",
    "import pandas as pd \n",
    "import string\n",
    "\n",
    "import matplotlib.pyplot as plt \n",
    "import seaborn as sns \n",
    "\n",
    "import ipywidgets \n",
    "from ipywidgets import interact\n",
    "\n",
    "plt.rcParams['figure.figsize'] = (15,5)\n",
    "plt.style.use('fivethirtyeight')"
   ]
  },
  {
   "cell_type": "code",
   "execution_count": 3,
   "metadata": {},
   "outputs": [
    {
     "name": "stdout",
     "output_type": "stream",
     "text": [
      "The shape of the Dataset :  (161297, 7)\n"
     ]
    }
   ],
   "source": [
    "#Reading the Dataset\n",
    "\n",
    "data = pd.read_csv('drug.csv')\n",
    "\n",
    "#Lets print the shape of the Dataset\n",
    "\n",
    "print (\"The shape of the Dataset : \" , data.shape)"
   ]
  },
  {
   "cell_type": "code",
   "execution_count": 4,
   "metadata": {},
   "outputs": [
    {
     "data": {
      "text/html": [
       "<div>\n",
       "<style scoped>\n",
       "    .dataframe tbody tr th:only-of-type {\n",
       "        vertical-align: middle;\n",
       "    }\n",
       "\n",
       "    .dataframe tbody tr th {\n",
       "        vertical-align: top;\n",
       "    }\n",
       "\n",
       "    .dataframe thead th {\n",
       "        text-align: right;\n",
       "    }\n",
       "</style>\n",
       "<table border=\"1\" class=\"dataframe\">\n",
       "  <thead>\n",
       "    <tr style=\"text-align: right;\">\n",
       "      <th></th>\n",
       "      <th>uniqueID</th>\n",
       "      <th>drugName</th>\n",
       "      <th>condition</th>\n",
       "      <th>review</th>\n",
       "      <th>rating</th>\n",
       "      <th>date</th>\n",
       "      <th>usefulCount</th>\n",
       "    </tr>\n",
       "  </thead>\n",
       "  <tbody>\n",
       "    <tr>\n",
       "      <th>0</th>\n",
       "      <td>206461</td>\n",
       "      <td>Valsartan</td>\n",
       "      <td>Left Ventricular Dysfunction</td>\n",
       "      <td>\"It has no side effect, I take it in combinati...</td>\n",
       "      <td>9</td>\n",
       "      <td>20-May-12</td>\n",
       "      <td>27</td>\n",
       "    </tr>\n",
       "    <tr>\n",
       "      <th>1</th>\n",
       "      <td>95260</td>\n",
       "      <td>Guanfacine</td>\n",
       "      <td>ADHD</td>\n",
       "      <td>\"My son is halfway through his fourth week of ...</td>\n",
       "      <td>8</td>\n",
       "      <td>27-Apr-10</td>\n",
       "      <td>192</td>\n",
       "    </tr>\n",
       "    <tr>\n",
       "      <th>2</th>\n",
       "      <td>92703</td>\n",
       "      <td>Lybrel</td>\n",
       "      <td>Birth Control</td>\n",
       "      <td>\"I used to take another oral contraceptive, wh...</td>\n",
       "      <td>5</td>\n",
       "      <td>14-Dec-09</td>\n",
       "      <td>17</td>\n",
       "    </tr>\n",
       "    <tr>\n",
       "      <th>3</th>\n",
       "      <td>138000</td>\n",
       "      <td>Ortho Evra</td>\n",
       "      <td>Birth Control</td>\n",
       "      <td>\"This is my first time using any form of birth...</td>\n",
       "      <td>8</td>\n",
       "      <td>3-Nov-15</td>\n",
       "      <td>10</td>\n",
       "    </tr>\n",
       "    <tr>\n",
       "      <th>4</th>\n",
       "      <td>35696</td>\n",
       "      <td>Buprenorphine / naloxone</td>\n",
       "      <td>Opiate Dependence</td>\n",
       "      <td>\"Suboxone has completely turned my life around...</td>\n",
       "      <td>9</td>\n",
       "      <td>27-Nov-16</td>\n",
       "      <td>37</td>\n",
       "    </tr>\n",
       "  </tbody>\n",
       "</table>\n",
       "</div>"
      ],
      "text/plain": [
       "   uniqueID                  drugName                     condition  \\\n",
       "0    206461                 Valsartan  Left Ventricular Dysfunction   \n",
       "1     95260                Guanfacine                          ADHD   \n",
       "2     92703                    Lybrel                 Birth Control   \n",
       "3    138000                Ortho Evra                 Birth Control   \n",
       "4     35696  Buprenorphine / naloxone             Opiate Dependence   \n",
       "\n",
       "                                              review  rating       date  \\\n",
       "0  \"It has no side effect, I take it in combinati...       9  20-May-12   \n",
       "1  \"My son is halfway through his fourth week of ...       8  27-Apr-10   \n",
       "2  \"I used to take another oral contraceptive, wh...       5  14-Dec-09   \n",
       "3  \"This is my first time using any form of birth...       8   3-Nov-15   \n",
       "4  \"Suboxone has completely turned my life around...       9  27-Nov-16   \n",
       "\n",
       "   usefulCount  \n",
       "0           27  \n",
       "1          192  \n",
       "2           17  \n",
       "3           10  \n",
       "4           37  "
      ]
     },
     "execution_count": 4,
     "metadata": {},
     "output_type": "execute_result"
    }
   ],
   "source": [
    "data.head()"
   ]
  },
  {
   "cell_type": "code",
   "execution_count": 5,
   "metadata": {},
   "outputs": [
    {
     "name": "stdout",
     "output_type": "stream",
     "text": [
      "Number of unique Drugs Present in the Dataset:  3436\n",
      " Number of unique medical conditions present in the Dataset :  884\n",
      "\n",
      " The Time Period of collecting the Data\n",
      "Starting Date: 1-Apr-08\n",
      "Ending Datte:   9-Sep-17\n"
     ]
    }
   ],
   "source": [
    "# Lets Eplore some of the important column in the dataset \n",
    "print (\"Number of unique Drugs Present in the Dataset: \" , data ['drugName'].nunique())\n",
    "print ( \" Number of unique medical conditions present in the Dataset : \", data['condition'].nunique())\n",
    "\n",
    "print (\"\\n The Time Period of collecting the Data\")\n",
    "print (\"Starting Date:\",data['date'].min())\n",
    "print (\"Ending Datte:  \", data['date'].max()\n",
    ")"
   ]
  },
  {
   "cell_type": "code",
   "execution_count": 6,
   "metadata": {},
   "outputs": [
    {
     "data": {
      "text/html": [
       "<div>\n",
       "<style scoped>\n",
       "    .dataframe tbody tr th:only-of-type {\n",
       "        vertical-align: middle;\n",
       "    }\n",
       "\n",
       "    .dataframe tbody tr th {\n",
       "        vertical-align: top;\n",
       "    }\n",
       "\n",
       "    .dataframe thead th {\n",
       "        text-align: right;\n",
       "    }\n",
       "</style>\n",
       "<table border=\"1\" class=\"dataframe\">\n",
       "  <thead>\n",
       "    <tr style=\"text-align: right;\">\n",
       "      <th></th>\n",
       "      <th>rating</th>\n",
       "      <th>usefulCount</th>\n",
       "    </tr>\n",
       "  </thead>\n",
       "  <tbody>\n",
       "    <tr>\n",
       "      <th>count</th>\n",
       "      <td>161297.000000</td>\n",
       "      <td>161297.000000</td>\n",
       "    </tr>\n",
       "    <tr>\n",
       "      <th>mean</th>\n",
       "      <td>6.994377</td>\n",
       "      <td>28.004755</td>\n",
       "    </tr>\n",
       "    <tr>\n",
       "      <th>std</th>\n",
       "      <td>3.272329</td>\n",
       "      <td>36.403742</td>\n",
       "    </tr>\n",
       "    <tr>\n",
       "      <th>min</th>\n",
       "      <td>1.000000</td>\n",
       "      <td>0.000000</td>\n",
       "    </tr>\n",
       "    <tr>\n",
       "      <th>25%</th>\n",
       "      <td>5.000000</td>\n",
       "      <td>6.000000</td>\n",
       "    </tr>\n",
       "    <tr>\n",
       "      <th>50%</th>\n",
       "      <td>8.000000</td>\n",
       "      <td>16.000000</td>\n",
       "    </tr>\n",
       "    <tr>\n",
       "      <th>75%</th>\n",
       "      <td>10.000000</td>\n",
       "      <td>36.000000</td>\n",
       "    </tr>\n",
       "    <tr>\n",
       "      <th>max</th>\n",
       "      <td>10.000000</td>\n",
       "      <td>1291.000000</td>\n",
       "    </tr>\n",
       "  </tbody>\n",
       "</table>\n",
       "</div>"
      ],
      "text/plain": [
       "              rating    usefulCount\n",
       "count  161297.000000  161297.000000\n",
       "mean        6.994377      28.004755\n",
       "std         3.272329      36.403742\n",
       "min         1.000000       0.000000\n",
       "25%         5.000000       6.000000\n",
       "50%         8.000000      16.000000\n",
       "75%        10.000000      36.000000\n",
       "max        10.000000    1291.000000"
      ]
     },
     "execution_count": 6,
     "metadata": {},
     "output_type": "execute_result"
    }
   ],
   "source": [
    "#lets summarize Dataset \n",
    "data[['rating' , 'usefulCount']].describe()"
   ]
  },
  {
   "cell_type": "code",
   "execution_count": 7,
   "metadata": {},
   "outputs": [
    {
     "name": "stdout",
     "output_type": "stream",
     "text": [
      "Analysis on Useless Drugs\n",
      "----------------------------\n",
      "The Number of Drugs with No Useful Count : 6318\n",
      "Number of Good Drugs with Lesser Useful Count : 0\n",
      "Average Rating of Drugs with No Useful Count : 5.80\n",
      "\n",
      "Analysis on Useful Drugs\n",
      "----------------------------\n",
      "The Number of Drugs with Greater than 1000 Useful Counts : 4\n",
      "Average Rating of Drugs with 1000+ Useful Counts : 10.0\n",
      "\n",
      "Name and Condition of these Drugs: \n",
      "\n",
      "          drugName      condition\n",
      "0          Mirena  Birth Control\n",
      "1      Sertraline     Depression\n",
      "2  Levonorgestrel  Birth Control\n",
      "3          Zoloft     Depression\n"
     ]
    }
   ],
   "source": [
    "# lets check the Number and Name of the Drugs with 0 Useful Count in Details\n",
    "print(\"Analysis on Useless Drugs\")\n",
    "print(\"----------------------------\")\n",
    "print(\"The Number of Drugs with No Useful Count :\", data[data['usefulCount'] == 0].count()[0])\n",
    "\n",
    "# Lets Check the Number of Drugs with No Usesful Count with Review Greater than or Equal to 8\n",
    "print(\"Number of Good Drugs with Lesser Useful Count :\", data[(data['usefulCount'] == 0) &\n",
    "                                                data['rating'] >= 8].count()[0])\n",
    "\n",
    "# Lets Check the Average Rating of the Drugs with No Useful Count\n",
    "print(\"Average Rating of Drugs with No Useful Count : {0:.2f}\".format(data[data['usefulCount'] == 0]['rating'].mean()))\n",
    "\n",
    "print(\"\\nAnalysis on Useful Drugs\")\n",
    "print(\"----------------------------\")\n",
    "print(\"The Number of Drugs with Greater than 1000 Useful Counts :\", data[data['usefulCount'] > 1000].count()[0])\n",
    "print(\"Average Rating of Drugs with 1000+ Useful Counts :\", data[data['usefulCount'] > 1000]['rating'].mean())\n",
    "print(\"\\nName and Condition of these Drugs: \\n\\n\", \n",
    "    data[data['usefulCount'] > 1000][['drugName','condition']].reset_index(drop = True))"
   ]
  },
  {
   "cell_type": "code",
   "execution_count": 8,
   "metadata": {},
   "outputs": [
    {
     "data": {
      "text/html": [
       "<div>\n",
       "<style scoped>\n",
       "    .dataframe tbody tr th:only-of-type {\n",
       "        vertical-align: middle;\n",
       "    }\n",
       "\n",
       "    .dataframe tbody tr th {\n",
       "        vertical-align: top;\n",
       "    }\n",
       "\n",
       "    .dataframe thead th {\n",
       "        text-align: right;\n",
       "    }\n",
       "</style>\n",
       "<table border=\"1\" class=\"dataframe\">\n",
       "  <thead>\n",
       "    <tr style=\"text-align: right;\">\n",
       "      <th></th>\n",
       "      <th>drugName</th>\n",
       "      <th>condition</th>\n",
       "      <th>review</th>\n",
       "    </tr>\n",
       "  </thead>\n",
       "  <tbody>\n",
       "    <tr>\n",
       "      <th>count</th>\n",
       "      <td>161297</td>\n",
       "      <td>160398</td>\n",
       "      <td>161297</td>\n",
       "    </tr>\n",
       "    <tr>\n",
       "      <th>unique</th>\n",
       "      <td>3436</td>\n",
       "      <td>884</td>\n",
       "      <td>112329</td>\n",
       "    </tr>\n",
       "    <tr>\n",
       "      <th>top</th>\n",
       "      <td>Levonorgestrel</td>\n",
       "      <td>Birth Control</td>\n",
       "      <td>\"Good\"</td>\n",
       "    </tr>\n",
       "    <tr>\n",
       "      <th>freq</th>\n",
       "      <td>3657</td>\n",
       "      <td>28788</td>\n",
       "      <td>33</td>\n",
       "    </tr>\n",
       "  </tbody>\n",
       "</table>\n",
       "</div>"
      ],
      "text/plain": [
       "              drugName      condition  review\n",
       "count           161297         160398  161297\n",
       "unique            3436            884  112329\n",
       "top     Levonorgestrel  Birth Control  \"Good\"\n",
       "freq              3657          28788      33"
      ]
     },
     "execution_count": 8,
     "metadata": {},
     "output_type": "execute_result"
    }
   ],
   "source": [
    "# lets summarize Categorical data also\n",
    "data[['drugName','condition','review']].describe(include = 'object')"
   ]
  },
  {
   "cell_type": "code",
   "execution_count": 9,
   "metadata": {},
   "outputs": [
    {
     "data": {
      "text/plain": [
       "uniqueID         0\n",
       "drugName         0\n",
       "condition      899\n",
       "review           0\n",
       "rating           0\n",
       "date             0\n",
       "usefulCount      0\n",
       "dtype: int64"
      ]
     },
     "execution_count": 9,
     "metadata": {},
     "output_type": "execute_result"
    }
   ],
   "source": [
    "# lets check for Missing Values\n",
    "data.isnull().sum()"
   ]
  },
  {
   "cell_type": "code",
   "execution_count": 10,
   "metadata": {},
   "outputs": [
    {
     "data": {
      "text/plain": [
       "0"
      ]
     },
     "execution_count": 10,
     "metadata": {},
     "output_type": "execute_result"
    }
   ],
   "source": [
    "# as we know that condition is an Important Column, so we will delete all the records where Condition is Missing\n",
    "data = data.dropna()\n",
    "\n",
    "# lets check the Missing values now\n",
    "data.isnull().sum().sum()"
   ]
  },
  {
   "cell_type": "code",
   "execution_count": 11,
   "metadata": {},
   "outputs": [
    {
     "data": {
      "image/png": "[encoded data removed]",
      "text/plain": [
       "<Figure size 1500x400 with 2 Axes>"
      ]
     },
     "metadata": {},
     "output_type": "display_data"
    }
   ],
   "source": [
    "# lets check the Distribution of Rating and Useful Count\n",
    "\n",
    "plt.rcParams['figure.figsize'] = (15, 4)\n",
    "\n",
    "plt.subplot(1, 2, 1)\n",
    "sns.histplot(data['rating'] , kde=True,\n",
    "    stat=\"density\", kde_kws=dict(cut=3))\n",
    "\n",
    "plt.subplot(1, 2, 2)\n",
    "sns.histplot(data['usefulCount'] , kde=True,\n",
    "    stat=\"density\", kde_kws=dict(cut=3))\n",
    "\n",
    "plt.suptitle('Distribution of Rating and Useful Count \\n ', fontsize = 20)\n",
    "plt.show()"
   ]
  },
  {
   "cell_type": "code",
   "execution_count": 12,
   "metadata": {},
   "outputs": [
    {
     "data": {
      "image/png": "[encoded data removed]",
      "text/plain": [
       "<Figure size 1500x400 with 1 Axes>"
      ]
     },
     "metadata": {},
     "output_type": "display_data"
    }
   ],
   "source": [
    "# lets check the Impact of Ratings on Usefulness\n",
    "\n",
    "plt.rcParams['figure.figsize'] = (15, 4)\n",
    "sns.barplot(x = 'rating', y = 'usefulCount',data= data, palette = 'hot')\n",
    "plt.grid()\n",
    "plt.xlabel('\\n Ratings')\n",
    "plt.ylabel('Count\\n', fontsize = 20)\n",
    "plt.title('\\n Rating vs Usefulness \\n', fontsize = 20)\n",
    "plt.show()"
   ]
  },
  {
   "cell_type": "code",
   "execution_count": 13,
   "metadata": {},
   "outputs": [],
   "source": [
    "# Checking whether Length of Review has any Impact on Ratings of the Drugs\n",
    "\n",
    "# for that we need to create a new column to calculate length of the reviews\n",
    "data['len']  = data['review'].apply(len)"
   ]
  },
  {
   "cell_type": "code",
   "execution_count": 14,
   "metadata": {},
   "outputs": [
    {
     "data": {
      "text/html": [
       "<div>\n",
       "<style scoped>\n",
       "    .dataframe tbody tr th:only-of-type {\n",
       "        vertical-align: middle;\n",
       "    }\n",
       "\n",
       "    .dataframe tbody tr th {\n",
       "        vertical-align: top;\n",
       "    }\n",
       "\n",
       "    .dataframe thead tr th {\n",
       "        text-align: left;\n",
       "    }\n",
       "\n",
       "    .dataframe thead tr:last-of-type th {\n",
       "        text-align: right;\n",
       "    }\n",
       "</style>\n",
       "<table border=\"1\" class=\"dataframe\">\n",
       "  <thead>\n",
       "    <tr>\n",
       "      <th></th>\n",
       "      <th colspan=\"3\" halign=\"left\">len</th>\n",
       "    </tr>\n",
       "    <tr>\n",
       "      <th></th>\n",
       "      <th>min</th>\n",
       "      <th>mean</th>\n",
       "      <th>max</th>\n",
       "    </tr>\n",
       "    <tr>\n",
       "      <th>rating</th>\n",
       "      <th></th>\n",
       "      <th></th>\n",
       "      <th></th>\n",
       "    </tr>\n",
       "  </thead>\n",
       "  <tbody>\n",
       "    <tr>\n",
       "      <th>1</th>\n",
       "      <td>5</td>\n",
       "      <td>428.784505</td>\n",
       "      <td>3692</td>\n",
       "    </tr>\n",
       "    <tr>\n",
       "      <th>2</th>\n",
       "      <td>9</td>\n",
       "      <td>452.902893</td>\n",
       "      <td>10787</td>\n",
       "    </tr>\n",
       "    <tr>\n",
       "      <th>3</th>\n",
       "      <td>8</td>\n",
       "      <td>461.249961</td>\n",
       "      <td>5112</td>\n",
       "    </tr>\n",
       "    <tr>\n",
       "      <th>4</th>\n",
       "      <td>7</td>\n",
       "      <td>464.077912</td>\n",
       "      <td>3030</td>\n",
       "    </tr>\n",
       "    <tr>\n",
       "      <th>5</th>\n",
       "      <td>6</td>\n",
       "      <td>477.982661</td>\n",
       "      <td>2048</td>\n",
       "    </tr>\n",
       "    <tr>\n",
       "      <th>6</th>\n",
       "      <td>4</td>\n",
       "      <td>467.957150</td>\n",
       "      <td>2202</td>\n",
       "    </tr>\n",
       "    <tr>\n",
       "      <th>7</th>\n",
       "      <td>6</td>\n",
       "      <td>485.597765</td>\n",
       "      <td>3063</td>\n",
       "    </tr>\n",
       "    <tr>\n",
       "      <th>8</th>\n",
       "      <td>3</td>\n",
       "      <td>483.584163</td>\n",
       "      <td>4087</td>\n",
       "    </tr>\n",
       "    <tr>\n",
       "      <th>9</th>\n",
       "      <td>3</td>\n",
       "      <td>477.696117</td>\n",
       "      <td>6182</td>\n",
       "    </tr>\n",
       "    <tr>\n",
       "      <th>10</th>\n",
       "      <td>3</td>\n",
       "      <td>443.215923</td>\n",
       "      <td>6192</td>\n",
       "    </tr>\n",
       "  </tbody>\n",
       "</table>\n",
       "</div>"
      ],
      "text/plain": [
       "       len                   \n",
       "       min        mean    max\n",
       "rating                       \n",
       "1        5  428.784505   3692\n",
       "2        9  452.902893  10787\n",
       "3        8  461.249961   5112\n",
       "4        7  464.077912   3030\n",
       "5        6  477.982661   2048\n",
       "6        4  467.957150   2202\n",
       "7        6  485.597765   3063\n",
       "8        3  483.584163   4087\n",
       "9        3  477.696117   6182\n",
       "10       3  443.215923   6192"
      ]
     },
     "execution_count": 14,
     "metadata": {},
     "output_type": "execute_result"
    }
   ],
   "source": [
    "# lets check the Impact of Length of Reviews on Ratings\n",
    "data[['rating','len']].groupby(['rating']).agg(['min','mean','max'])"
   ]
  },
  {
   "cell_type": "code",
   "execution_count": 15,
   "metadata": {},
   "outputs": [
    {
     "name": "stdout",
     "output_type": "stream",
     "text": [
      "Length of Longest Review 10787\n"
     ]
    },
    {
     "data": {
      "text/plain": [
       "'\"Two and a half months ago I was prescribed Venlafaxine to help prevent chronic migraines.\\r\\nIt did help the migraines (reduced them by almost half), but with it came a host of side effects that were far worse than the problem I was trying to get rid of.\\r\\nHaving now come off of the stuff, I would not recommend anyone ever use Venlafaxine unless they suffer from extreme / suicidal depression. I mean extreme in the most emphatic sense of the word. \\r\\nBefore trying Venlafaxine, I was a writer. While on Venlafaxine, I could barely write or speak or communicate at all. More than that, I just didn&#039;t want to. Not normal for a usually outgoing extrovert.\\r\\nNow, I&#039;m beginning to write again - but my ability to speak and converse with others has deteriorated by about 95%. Writing these words is taking forever; keeping up in conversation with even one person is impossible, and I barely see the point of trying either. On Venlafaxine, words pretty much left me - my conversational vocabulary  was whittled down to the following:\\r\\n&quot;Mmm&quot; for yes; a sharp and clipped &quot;Mm&quot; for &quot;No&quot;\\r\\n&quot;Okay.&quot;\\r\\n&quot;Really?&quot;\\r\\n&quot;Oh right.&quot;\\r\\n&quot;Cool.&quot;\\r\\n&quot;That sucks&quot;\\r\\nAt the moment, I&#039;m a week into withdrawal, and I have to try extremely hard just to make the most mundane small talk. Last night I went to a party with some close friends, cheesy &#039;90s music, and a barbecue. About half of them are academics, and I couldn&#039;t keep up with conversations I normally would be able to; the other half like to dance and party, but I felt glued to my seat (as well as practically mute) and eventually walked off and found a quiet sofa to lie down on.\\r\\nI have never felt so isolated and lonely in my life. Thanks Venlafaxine.\\r\\nIf you consider yourself a social, creative, and curious person, DO NOT TAKE EVEN ONE DOSE OF VENLAFAXINE. Unless of course you are extremely extremely depressed. I&#039;ve suffered from depression in the past, but only mildly. Venlafaxine has shown me what true depression feels like.\\r\\nAs for the other side effects:\\r\\n- About two days&#039; worth of total joyful euphoria during the first 48 hours of taking Venlafaxine. Anxiety of all kinds evaporated. This felt amazing - although I can&#039;t remember what it felt like now. At the time, this extremely brief effect was powerful enough to make me feel that pushing on with Venlafaxine would be a Good Idea.\\r\\n- After that, I started feeling very sleepy. All the time. I slept more. No euphoria; more anxiety.\\r\\n- A week later, the night sweats started. My room was pretty cold (it was only spring in the UK), but I sweated more than I ever have on any tropical holiday. This meant that despite being extremely sleepy, I couldn&#039;t sleep.\\r\\nSince the side effects were supposed to wear off after six weeks or so, I stuck with Venlafaxine for six weeks. Over that time I became so sleep deprived that I lived in a state of permanent exhaustion.\\r\\nEnter the writer&#039;s worst enemy: Brain fog. I spent entire days so braindead that the most challenging thing I could manage was staring blankly at a wall - or lifting my phone to read text messages and attempt to learn something from articles about Venlafaxine. I&#039;ve read the same articles countless times, but nothing sank in; every time I read the same article it felt like I was reading it for the first time. I recognised the layout and design of each webpage, and that way I was able to realise I&#039;d read it before, but the actual text went in one eye and out the other.\\r\\nIn conversation, I had a brain like a sieve. Words went in one ear and out the other. Normally, I could pump out a lot of writing on a regular basis; on Venlafaxine, I wrote a small and frankly pitiful handful of short and uninspired pieces, and that was it. If you love being productive and creative, do not go near Venlafaxine.\\r\\nThe above was my life for six weeks - and that was enough. I did see family and friends while on Venlafaxine, but I constantly forgot what was going on and must have seemed scatterbrained or borderline retarded at times. Although I did explain to people what was going on with my medication, it just seemed to make people uncomfortable - and I&#039;ve now become the butt of a lot of jokes relating to my consistent uselessness at everything from chatting to party games and my inability to work or do anything productive. Someone even compared me to Lenny from Of Mice And Men and asked when my family were going to take me into the back garden and shoot me in the head rather than continue to care for me. All of this contributed to the worst feeling of loneliness and isolation I have ever experienced in my life.\\r\\nVenlafaxine not only trapped me inside my head - it also emptied my head of anything worth remembering, and left me barely able to learn new things. \\r\\nI&#039;d sit around tables with people and realise I couldn&#039;t remember the names of people I&#039;d know for years - or even family members. \\r\\nI&#039;d hear a song playing and say &quot;Hey - what&#039;s the name of this dance?&quot;\\r\\nAny sentence longer than a few words requires a minute or so to compose when written. Spoken out loud? Forget about it. When I try to speak, I sound like the Goon from Popeye.\\r\\nAfter six weeks of hell, my doctor and I agreed to taper off my 75mg daily dose. This process lasted a month, not following a particular schedule (which might have been a better idea), and was mostly side effect free until I came down to 18.25mg a day - one half of one 37.5mg tablet.\\r\\nAfter three days of that, it really hit the fan. I got up one day, pottered around a bit, and suddenly decided that I wanted to kill myself. Literally out of nowhere.\\r\\nFortunately I was of sound enough mind to call the Samaritans, who recommended I call the emergency services, who sent an ambulance to take me to hospital. For suicidal thoughts. \\r\\nTo be honest, I&#039;d rather have gone to Disneyland.\\r\\nOnce I was in A&amp;E, I got to wait for several hours, just stewing in a room with a sofa and not much else. Then I met the most useless doctor of all time. After I refused his suggestion that I not only go back on Venlafaxine, but *try a higher dose* than the one that got me into this mess in the first place, he said there wasn&#039;t anything else they could do - and handed me a little leaflet for a local mental health charity meetup that happens every so often.\\r\\nBy this point I&#039;d decided that suicide would not be the best option - and nor would going on even more Venlafaxine than before. I also binned the leaflet on my way out, determined to keep going and just deal with the withdrawal.\\r\\nSince that time, my intelligence level has plummeted to the point of being humiliating. But that&#039;s not even the worst of it.\\r\\nAs I mentioned before, I started taking Venlafaxine for migraines. Now that I&#039;m not taking it, they&#039;re coming back again - but they&#039;ve also changed.\\r\\nA few days ago, days before the party I should probably have stayed home for only I couldn&#039;t stand sitting at home any longer so I went and ended up alone in a darkened room and felt more depressed than I have in my entire life, I was at home when I collapsed. The right side of my body gave way, I hit the wall, and fell on the floor where I lay frozen for God knows how long. Then when I did get up, I realised I couldn&#039;t speak at all, the right side of my body was almost paralysed, and the right side of my head was numb on the outside, and in agony on the inside.\\r\\nAfter calling the emergency services again, I was taken through the standard questions I guess they ask everyone when they think the person in question is having a stroke. Like the suicidal thoughts, stroke symptoms were a new experience for me. Thanks, Venlafaxine.\\r\\nWhen the ambulance arrived, they were able to reassure me that I wasn&#039;t having a stroke, as one side of my face wasn&#039;t drooping. This was good news - but since they couldn&#039;t explain what was actually going on, I was taking to hospital for a brain scan and blood tests and a meeting with a doctor who told me I&#039;d had a right-sided hemiplegic migraine. I&#039;d never had one before, and didn&#039;t know they existed until then; my migraines have always felt like my head is both in a vice and exploding at the same time, and I get them across my whole head, not just one side.\\r\\nAt this point, I&#039;m determined to continue fighting the withdrawal symptoms. The only thing that&#039;s really helped me in doing this was the discovery of a cognitive distortion called &quot;emotional reasoning&quot;. This involves assuming that because you feel bad, things must actually be bad.\\r\\nObviously emotional reasoning (which is worth Googling as it&#039;s quite an in depth subject, or at least feels like it given that my brain&#039;s been hopefully temporarily damaged by Venlafaxine) is pretty common in depression. It&#039;s also been my brain&#039;s default way of operating possibly for as long as I can remember, but definitely since I started taking Venlafaxine. The emotional and physical and psychological rollercoaster Venlafaxine puts you through is utterly exhausting - and while it&#039;s throwing you all over the place and especially during withdrawal it&#039;s tough to keep in mind that a lot of the negative thoughts your mind throws up are going to be based on how you feel (i.e. the levels and mix of different chemicals in your brain), NOT on any Real Life Stuff. You&#039;ll most likely unintentionally filter out all the good stuff in your brain and only remember the darkest and worst things you possibly can, and attach all kinds of apparently logical arguments to make a case against yourself / a case that argues that you and your life are awful.\\r\\nLooking back on this experience, my thoughts were similar to one of those films you see advertised as &quot;...based on a true story&quot;. Works of fiction based very loosely on facts.\\r\\nRather than a film you&#039;d give two stars and never watch again, emotional reasoning&#039;s end product is a lie - not to mention the most toxic thoughts a human being can think. Depression can definitely make people tell these lies to themselves - but Venlafaxine made my brain malfunction so badly that putting together an apparently sensible argument for any depressive thoughts suddenly seemed like the most obvious thing in the world one day.\\r\\nIf I hadn&#039;t had those thoughts, I would&#039;ve just made lunch.\\r\\nSo that&#039;s about it for now - if I don&#039;t update this story in the future, assume I got better and decided to never revisit this page again, preferring to leave Venlafaxine and its horrific toxicity behind me. Good luck with your own journey :)\"'"
      ]
     },
     "execution_count": 15,
     "metadata": {},
     "output_type": "execute_result"
    }
   ],
   "source": [
    "# lets check the Highest Length Review\n",
    "print(\"Length of Longest Review\", data['len'].max())\n",
    "data['review'][data['len'] == data['len'].max()].iloc[0]"
   ]
  },
  {
   "attachments": {},
   "cell_type": "markdown",
   "metadata": {},
   "source": [
    "### Cleaning the Reviews\n"
   ]
  },
  {
   "attachments": {},
   "cell_type": "markdown",
   "metadata": {},
   "source": [
    "### Calculating the Sentiment from Reviews"
   ]
  },
  {
   "cell_type": "code",
   "execution_count": 16,
   "metadata": {},
   "outputs": [],
   "source": [
    "# as it is clear that the reviews have so many unnecassry things such as Stopwords, Punctuations, numbers etc\n",
    "\n",
    "# First lets remove Punctuations from the Reviews\n",
    "def punctuation_removal(messy_str):\n",
    "    clean_list = [char for char in messy_str if char not in string.punctuation]\n",
    "    clean_str = ''.join(clean_list)\n",
    "    return clean_str\n",
    "\n",
    "data['review'] = data['review'].apply(punctuation_removal)"
   ]
  },
  {
   "cell_type": "code",
   "execution_count": 23,
   "metadata": {},
   "outputs": [
    {
     "name": "stderr",
     "output_type": "stream",
     "text": [
      "[nltk_data] Downloading package stopwords to C:\\Users\\DEV\n",
      "[nltk_data]     GOMAA\\AppData\\Roaming\\nltk_data...\n",
      "[nltk_data]   Package stopwords is already up-to-date!\n",
      "[nltk_data] Downloading package punkt to C:\\Users\\DEV\n",
      "[nltk_data]     GOMAA\\AppData\\Roaming\\nltk_data...\n",
      "[nltk_data]   Unzipping tokenizers\\punkt.zip.\n"
     ]
    }
   ],
   "source": [
    "# Now lets Remove the Stopwords also\n",
    "import nltk \n",
    "nltk.download('stopwords')\n",
    "nltk.download('punkt')\n",
    "from nltk.corpus import stopwords\n",
    "from nltk.tokenize import word_tokenize\n",
    "\n",
    "stop = stopwords.words('english')\n",
    "stop.append(\"i'm\")\n",
    "\n",
    "stop_words = []\n",
    "\n",
    "for item in stop: \n",
    "    new_item = punctuation_removal(item)\n",
    "    stop_words.append(new_item) \n",
    "\n",
    "def stopwords_removal(messy_str):\n",
    "    messy_str = word_tokenize(messy_str)\n",
    "    return [word.lower() for word in messy_str \n",
    "            if word.lower() not in stop_words ]\n",
    "\n",
    "data['review'] = data['review'].apply(stopwords_removal)"
   ]
  },
  {
   "cell_type": "code",
   "execution_count": 24,
   "metadata": {},
   "outputs": [],
   "source": [
    "# lets remove the Numbers also\n",
    "\n",
    "import re\n",
    "def drop_numbers(list_text):\n",
    "    list_text_new = []\n",
    "    for i in list_text:\n",
    "        if not re.search('\\d', i):\n",
    "            list_text_new.append(i)\n",
    "    return ' '.join(list_text_new)\n",
    "\n",
    "data['review'] = data['review'].apply(drop_numbers)"
   ]
  },
  {
   "attachments": {},
   "cell_type": "markdown",
   "metadata": {},
   "source": [
    "### Calculating the Sentiment from Reviews"
   ]
  },
  {
   "cell_type": "code",
   "execution_count": 26,
   "metadata": {},
   "outputs": [
    {
     "name": "stderr",
     "output_type": "stream",
     "text": [
      "[nltk_data] Downloading package vader_lexicon to C:\\Users\\DEV\n",
      "[nltk_data]     GOMAA\\AppData\\Roaming\\nltk_data...\n",
      "[nltk_data]   Package vader_lexicon is already up-to-date!\n"
     ]
    },
    {
     "data": {
      "text/plain": [
       "True"
      ]
     },
     "execution_count": 26,
     "metadata": {},
     "output_type": "execute_result"
    }
   ],
   "source": [
    "# for using Sentiment Analyzer we will have to dowload the Vader Lexicon from NLTK\n",
    "\n",
    "nltk.download('vader_lexicon')"
   ]
  },
  {
   "cell_type": "code",
   "execution_count": 27,
   "metadata": {},
   "outputs": [],
   "source": [
    "# lets calculate the Sentiment from Reviews\n",
    "\n",
    "from nltk.sentiment.vader import SentimentIntensityAnalyzer\n",
    "sid = SentimentIntensityAnalyzer()\n",
    "\n",
    "train_sentiments = []\n",
    "\n",
    "for i in data['review']:\n",
    "    train_sentiments.append(sid.polarity_scores(i).get('compound'))\n",
    "    \n",
    "train_sentiments = np.asarray(train_sentiments)\n",
    "data['sentiment'] = pd.Series(data=train_sentiments)"
   ]
  },
  {
   "cell_type": "code",
   "execution_count": 28,
   "metadata": {},
   "outputs": [
    {
     "data": {
      "text/html": [
       "<div>\n",
       "<style scoped>\n",
       "    .dataframe tbody tr th:only-of-type {\n",
       "        vertical-align: middle;\n",
       "    }\n",
       "\n",
       "    .dataframe tbody tr th {\n",
       "        vertical-align: top;\n",
       "    }\n",
       "\n",
       "    .dataframe thead tr th {\n",
       "        text-align: left;\n",
       "    }\n",
       "\n",
       "    .dataframe thead tr:last-of-type th {\n",
       "        text-align: right;\n",
       "    }\n",
       "</style>\n",
       "<table border=\"1\" class=\"dataframe\">\n",
       "  <thead>\n",
       "    <tr>\n",
       "      <th></th>\n",
       "      <th colspan=\"3\" halign=\"left\">sentiment</th>\n",
       "    </tr>\n",
       "    <tr>\n",
       "      <th></th>\n",
       "      <th>min</th>\n",
       "      <th>mean</th>\n",
       "      <th>max</th>\n",
       "    </tr>\n",
       "    <tr>\n",
       "      <th>rating</th>\n",
       "      <th></th>\n",
       "      <th></th>\n",
       "      <th></th>\n",
       "    </tr>\n",
       "  </thead>\n",
       "  <tbody>\n",
       "    <tr>\n",
       "      <th>1</th>\n",
       "      <td>-0.9931</td>\n",
       "      <td>0.005311</td>\n",
       "      <td>0.9898</td>\n",
       "    </tr>\n",
       "    <tr>\n",
       "      <th>2</th>\n",
       "      <td>-0.9929</td>\n",
       "      <td>0.003867</td>\n",
       "      <td>0.9924</td>\n",
       "    </tr>\n",
       "    <tr>\n",
       "      <th>3</th>\n",
       "      <td>-0.9925</td>\n",
       "      <td>0.003170</td>\n",
       "      <td>0.9877</td>\n",
       "    </tr>\n",
       "    <tr>\n",
       "      <th>4</th>\n",
       "      <td>-0.9919</td>\n",
       "      <td>0.000697</td>\n",
       "      <td>0.9867</td>\n",
       "    </tr>\n",
       "    <tr>\n",
       "      <th>5</th>\n",
       "      <td>-0.9920</td>\n",
       "      <td>0.014445</td>\n",
       "      <td>0.9882</td>\n",
       "    </tr>\n",
       "    <tr>\n",
       "      <th>6</th>\n",
       "      <td>-0.9914</td>\n",
       "      <td>0.008838</td>\n",
       "      <td>0.9936</td>\n",
       "    </tr>\n",
       "    <tr>\n",
       "      <th>7</th>\n",
       "      <td>-0.9938</td>\n",
       "      <td>-0.000509</td>\n",
       "      <td>0.9911</td>\n",
       "    </tr>\n",
       "    <tr>\n",
       "      <th>8</th>\n",
       "      <td>-0.9936</td>\n",
       "      <td>0.008952</td>\n",
       "      <td>0.9923</td>\n",
       "    </tr>\n",
       "    <tr>\n",
       "      <th>9</th>\n",
       "      <td>-0.9964</td>\n",
       "      <td>0.009489</td>\n",
       "      <td>0.9911</td>\n",
       "    </tr>\n",
       "    <tr>\n",
       "      <th>10</th>\n",
       "      <td>-0.9982</td>\n",
       "      <td>0.005446</td>\n",
       "      <td>0.9923</td>\n",
       "    </tr>\n",
       "  </tbody>\n",
       "</table>\n",
       "</div>"
      ],
      "text/plain": [
       "       sentiment                  \n",
       "             min      mean     max\n",
       "rating                            \n",
       "1        -0.9931  0.005311  0.9898\n",
       "2        -0.9929  0.003867  0.9924\n",
       "3        -0.9925  0.003170  0.9877\n",
       "4        -0.9919  0.000697  0.9867\n",
       "5        -0.9920  0.014445  0.9882\n",
       "6        -0.9914  0.008838  0.9936\n",
       "7        -0.9938 -0.000509  0.9911\n",
       "8        -0.9936  0.008952  0.9923\n",
       "9        -0.9964  0.009489  0.9911\n",
       "10       -0.9982  0.005446  0.9923"
      ]
     },
     "execution_count": 28,
     "metadata": {},
     "output_type": "execute_result"
    }
   ],
   "source": [
    "# lets check Impact of Sentiment on Reviews\n",
    "data[['rating','sentiment']].groupby(['rating']).agg(['min','mean','max'])"
   ]
  },
  {
   "cell_type": "code",
   "execution_count": 29,
   "metadata": {},
   "outputs": [
    {
     "data": {
      "text/plain": [
       "Index(['drugName', 'condition', 'rating', 'usefulCount'], dtype='object')"
      ]
     },
     "execution_count": 29,
     "metadata": {},
     "output_type": "execute_result"
    }
   ],
   "source": [
    "# as we can see that Sentiment and length of the review are not related to Reviews, we will drop the sentiment column\n",
    "\n",
    "# lets remove the unique Id, date, review, len, and sentiment column also\n",
    "data = data.drop(['date','uniqueID','sentiment','review','len'], axis = 1)\n",
    "\n",
    "# lets check the name of columns now\n",
    "data.columns"
   ]
  },
  {
   "attachments": {},
   "cell_type": "markdown",
   "metadata": {},
   "source": [
    "### Calculating Effectiveness and Usefulness of Drugs"
   ]
  },
  {
   "cell_type": "code",
   "execution_count": 39,
   "metadata": {},
   "outputs": [],
   "source": [
    "# Lets Calculate an Effective Rating\n",
    "\n",
    "\n",
    "min_rating = data['rating'].min()\n",
    "max_rating = data['rating'].max()\n",
    "\n",
    "def scale_rating(rating):\n",
    "    rating -= min_rating\n",
    "    rating = rating/(max_rating -1)\n",
    "    rating *= 5\n",
    "    rating = int(round(rating,0))\n",
    "    \n",
    "    if(int(rating) == 0 or int(rating)==1 or int(rating)==2):\n",
    "        return 0\n",
    "    else:\n",
    "        return 1\n",
    "    \n",
    "data['eff_score'] = data['rating'].apply(scale_rating)"
   ]
  },
  {
   "cell_type": "code",
   "execution_count": 40,
   "metadata": {},
   "outputs": [
    {
     "data": {
      "text/html": [
       "<div>\n",
       "<style scoped>\n",
       "    .dataframe tbody tr th:only-of-type {\n",
       "        vertical-align: middle;\n",
       "    }\n",
       "\n",
       "    .dataframe tbody tr th {\n",
       "        vertical-align: top;\n",
       "    }\n",
       "\n",
       "    .dataframe thead th {\n",
       "        text-align: right;\n",
       "    }\n",
       "</style>\n",
       "<table border=\"1\" class=\"dataframe\">\n",
       "  <thead>\n",
       "    <tr style=\"text-align: right;\">\n",
       "      <th></th>\n",
       "      <th>drugName</th>\n",
       "      <th>condition</th>\n",
       "      <th>usefulness</th>\n",
       "    </tr>\n",
       "  </thead>\n",
       "  <tbody>\n",
       "    <tr>\n",
       "      <th>0</th>\n",
       "      <td>Sertraline</td>\n",
       "      <td>Depression</td>\n",
       "      <td>12910</td>\n",
       "    </tr>\n",
       "    <tr>\n",
       "      <th>1</th>\n",
       "      <td>Zoloft</td>\n",
       "      <td>Depression</td>\n",
       "      <td>12910</td>\n",
       "    </tr>\n",
       "    <tr>\n",
       "      <th>2</th>\n",
       "      <td>Levonorgestrel</td>\n",
       "      <td>Birth Control</td>\n",
       "      <td>12470</td>\n",
       "    </tr>\n",
       "    <tr>\n",
       "      <th>3</th>\n",
       "      <td>Mirena</td>\n",
       "      <td>Birth Control</td>\n",
       "      <td>12470</td>\n",
       "    </tr>\n",
       "    <tr>\n",
       "      <th>4</th>\n",
       "      <td>Zoloft</td>\n",
       "      <td>Depression</td>\n",
       "      <td>8541</td>\n",
       "    </tr>\n",
       "    <tr>\n",
       "      <th>5</th>\n",
       "      <td>Phentermine</td>\n",
       "      <td>Weight Loss</td>\n",
       "      <td>7960</td>\n",
       "    </tr>\n",
       "    <tr>\n",
       "      <th>6</th>\n",
       "      <td>Adipex-P</td>\n",
       "      <td>Weight Loss</td>\n",
       "      <td>7960</td>\n",
       "    </tr>\n",
       "    <tr>\n",
       "      <th>7</th>\n",
       "      <td>Implanon</td>\n",
       "      <td>Birth Control</td>\n",
       "      <td>7300</td>\n",
       "    </tr>\n",
       "    <tr>\n",
       "      <th>8</th>\n",
       "      <td>Viibryd</td>\n",
       "      <td>Depression</td>\n",
       "      <td>6930</td>\n",
       "    </tr>\n",
       "    <tr>\n",
       "      <th>9</th>\n",
       "      <td>Vilazodone</td>\n",
       "      <td>Depression</td>\n",
       "      <td>6930</td>\n",
       "    </tr>\n",
       "  </tbody>\n",
       "</table>\n",
       "</div>"
      ],
      "text/plain": [
       "         drugName      condition  usefulness\n",
       "0      Sertraline     Depression       12910\n",
       "1          Zoloft     Depression       12910\n",
       "2  Levonorgestrel  Birth Control       12470\n",
       "3          Mirena  Birth Control       12470\n",
       "4          Zoloft     Depression        8541\n",
       "5     Phentermine    Weight Loss        7960\n",
       "6        Adipex-P    Weight Loss        7960\n",
       "7        Implanon  Birth Control        7300\n",
       "8         Viibryd     Depression        6930\n",
       "9      Vilazodone     Depression        6930"
      ]
     },
     "execution_count": 40,
     "metadata": {},
     "output_type": "execute_result"
    }
   ],
   "source": [
    "# lets also calculate Usefulness Score\n",
    "\n",
    "data['usefulness'] = data['rating']*data['usefulCount']*data['eff_score']\n",
    "\n",
    "# lets check the Top 10 Most Useful Drugs with their Respective Conditions\n",
    "data[['drugName','condition','usefulness']][data['usefulness'] > \n",
    "                            data['usefulness'].mean()].sort_values(by = 'usefulness', \n",
    "                                        ascending = False).head(10).reset_index(drop = True)"
   ]
  },
  {
   "attachments": {},
   "cell_type": "markdown",
   "metadata": {},
   "source": [
    "### Analyzing the Medical Condtitions"
   ]
  },
  {
   "cell_type": "code",
   "execution_count": 44,
   "metadata": {},
   "outputs": [
    {
     "data": {
      "application/vnd.jupyter.widget-view+json": {
       "model_id": "41cb1a6fefd94081919c2fe5ee3ab139",
       "version_major": 2,
       "version_minor": 0
      },
      "text/plain": [
       "interactive(children=(Dropdown(description='condition', options=('Birth Control', 'Depression', 'Pain', 'Anxie…"
      ]
     },
     "metadata": {},
     "output_type": "display_data"
    }
   ],
   "source": [
    "# lets calculate the Number of Useless and Useful Drugs for Each Condition\n",
    "\n",
    "@interact\n",
    "def check(condition = list(data['condition'].value_counts().index)):\n",
    "    return data[data['condition'] == condition]['eff_score'].value_counts()"
   ]
  },
  {
   "cell_type": "code",
   "execution_count": 45,
   "metadata": {},
   "outputs": [
    {
     "data": {
      "image/png": "[encoded data removed]",
      "text/plain": [
       "<Figure size 1500x400 with 1 Axes>"
      ]
     },
     "metadata": {},
     "output_type": "display_data"
    }
   ],
   "source": [
    "# lets check this in Graph, \n",
    "\n",
    "popular_conditions = ('Birth Control','Depression','Pain','Anxiety','Acne','Bipolar Disorde','Insomnia','Weight Loss',\n",
    "                      'Obesity','ADHD', 'Diabetes, Type 2', 'Emergency Contraception', 'High Blood Pressure','Migrane')\n",
    "conditions = data.loc[data['condition'].isin(popular_conditions)]\n",
    "\n",
    "sns.barplot(x = conditions['condition'], y = conditions['rating'], hue = data['eff_score'], \n",
    "     palette = 'autumn')\n",
    "plt.title('Conditions vs Effective Number of Drugs')\n",
    "plt.xticks(rotation = 90)\n",
    "plt.ylabel(' ')\n",
    "plt.show()"
   ]
  },
  {
   "cell_type": "code",
   "execution_count": 46,
   "metadata": {},
   "outputs": [
    {
     "name": "stdout",
     "output_type": "stream",
     "text": [
      "Number of Unique Conditions : 884\n"
     ]
    },
    {
     "data": {
      "text/plain": [
       "Birth Control          8850\n",
       "Depression             7367\n",
       "Pain                   5029\n",
       "Anxiety                4553\n",
       "Acne                   3578\n",
       "Bipolar Disorde        3498\n",
       "Insomnia               2905\n",
       "ADHD                   2611\n",
       "Obesity                2364\n",
       "High Blood Pressure    2174\n",
       "Name: condition, dtype: int64"
      ]
     },
     "execution_count": 46,
     "metadata": {},
     "output_type": "execute_result"
    }
   ],
   "source": [
    "# lets check the Most Common Conditions\n",
    "\n",
    "print(\"Number of Unique Conditions :\", data['condition'].nunique())\n",
    "data['condition'].value_counts().head(10)"
   ]
  },
  {
   "cell_type": "code",
   "execution_count": 47,
   "metadata": {},
   "outputs": [
    {
     "data": {
      "text/html": [
       "<div>\n",
       "<style scoped>\n",
       "    .dataframe tbody tr th:only-of-type {\n",
       "        vertical-align: middle;\n",
       "    }\n",
       "\n",
       "    .dataframe tbody tr th {\n",
       "        vertical-align: top;\n",
       "    }\n",
       "\n",
       "    .dataframe thead th {\n",
       "        text-align: right;\n",
       "    }\n",
       "</style>\n",
       "<table border=\"1\" class=\"dataframe\">\n",
       "  <thead>\n",
       "    <tr style=\"text-align: right;\">\n",
       "      <th></th>\n",
       "      <th>drugName</th>\n",
       "      <th>usefulCount</th>\n",
       "    </tr>\n",
       "  </thead>\n",
       "  <tbody>\n",
       "    <tr>\n",
       "      <th>0</th>\n",
       "      <td>Sertraline</td>\n",
       "      <td>1291</td>\n",
       "    </tr>\n",
       "    <tr>\n",
       "      <th>1</th>\n",
       "      <td>Zoloft</td>\n",
       "      <td>1291</td>\n",
       "    </tr>\n",
       "    <tr>\n",
       "      <th>2</th>\n",
       "      <td>Levonorgestrel</td>\n",
       "      <td>1247</td>\n",
       "    </tr>\n",
       "    <tr>\n",
       "      <th>3</th>\n",
       "      <td>Mirena</td>\n",
       "      <td>1247</td>\n",
       "    </tr>\n",
       "    <tr>\n",
       "      <th>4</th>\n",
       "      <td>Zoloft</td>\n",
       "      <td>949</td>\n",
       "    </tr>\n",
       "    <tr>\n",
       "      <th>5</th>\n",
       "      <td>Adipex-P</td>\n",
       "      <td>796</td>\n",
       "    </tr>\n",
       "    <tr>\n",
       "      <th>6</th>\n",
       "      <td>Phentermine</td>\n",
       "      <td>796</td>\n",
       "    </tr>\n",
       "    <tr>\n",
       "      <th>7</th>\n",
       "      <td>Citalopram</td>\n",
       "      <td>771</td>\n",
       "    </tr>\n",
       "    <tr>\n",
       "      <th>8</th>\n",
       "      <td>Celexa</td>\n",
       "      <td>771</td>\n",
       "    </tr>\n",
       "    <tr>\n",
       "      <th>9</th>\n",
       "      <td>Implanon</td>\n",
       "      <td>730</td>\n",
       "    </tr>\n",
       "  </tbody>\n",
       "</table>\n",
       "</div>"
      ],
      "text/plain": [
       "         drugName  usefulCount\n",
       "0      Sertraline         1291\n",
       "1          Zoloft         1291\n",
       "2  Levonorgestrel         1247\n",
       "3          Mirena         1247\n",
       "4          Zoloft          949\n",
       "5        Adipex-P          796\n",
       "6     Phentermine          796\n",
       "7      Citalopram          771\n",
       "8          Celexa          771\n",
       "9        Implanon          730"
      ]
     },
     "execution_count": 47,
     "metadata": {},
     "output_type": "execute_result"
    }
   ],
   "source": [
    "# lets check Drugs, which were useful to Highest Number of Poeple\n",
    "data[['drugName','usefulCount']][data['usefulCount'] >\n",
    "                    data['usefulCount'].mean()].sort_values(by = 'usefulCount',\n",
    "                                        ascending = False).head(10).reset_index(drop = True)"
   ]
  },
  {
   "cell_type": "code",
   "execution_count": null,
   "metadata": {},
   "outputs": [],
   "source": []
  },
  {
   "attachments": {},
   "cell_type": "markdown",
   "metadata": {},
   "source": [
    "### Finding Most Useful and Useless Drugs for each Condition"
   ]
  },
  {
   "cell_type": "code",
   "execution_count": 41,
   "metadata": {},
   "outputs": [],
   "source": [
    "# lets remove all the Duplicates from the Dataset\n",
    "data = data.drop_duplicates()"
   ]
  },
  {
   "cell_type": "code",
   "execution_count": 43,
   "metadata": {},
   "outputs": [
    {
     "data": {
      "application/vnd.jupyter.widget-view+json": {
       "model_id": "60d3788818d74da1b2eb21a62e9b0641",
       "version_major": 2,
       "version_minor": 0
      },
      "text/plain": [
       "interactive(children=(Dropdown(description='condition', options=('Birth Control', 'Depression', 'Pain', 'Anxie…"
      ]
     },
     "metadata": {},
     "output_type": "display_data"
    }
   ],
   "source": [
    "# lets find the Highest and Lowest Rated Drugs for each Condition\n",
    "\n",
    "@interact\n",
    "def high_low_rate(condition = list(data['condition'].value_counts().index)):\n",
    "    print(\"\\n Top 5 Drugs\")\n",
    "    print(data[data['condition'] == condition][['drugName','usefulness']].sort_values(by = 'usefulness',\n",
    "                                                 ascending = False).head().reset_index(drop = True))\n",
    "    print(\"\\n\\n Bottom 5 Drugs\")\n",
    "    print(data[data['condition'] == condition][['drugName','usefulness']].sort_values(by = 'usefulness',\n",
    "                                                 ascending = True).head().reset_index(drop = True))"
   ]
  }
 ],
 "metadata": {
  "kernelspec": {
   "display_name": "Python 3",
   "language": "python",
   "name": "python3"
  },
  "language_info": {
   "codemirror_mode": {
    "name": "ipython",
    "version": 3
   },
   "file_extension": ".py",
   "mimetype": "text/x-python",
   "name": "python",
   "nbconvert_exporter": "python",
   "pygments_lexer": "ipython3",
   "version": "3.11.1"
  },
  "orig_nbformat": 4,
  "vscode": {
   "interpreter": {
    "hash": "aa6da097fdd29793bedfa5530224053323be9e5275e1b3f3ab422d47b46fc40e"
   }
  }
 },
 "nbformat": 4,
 "nbformat_minor": 2
}
